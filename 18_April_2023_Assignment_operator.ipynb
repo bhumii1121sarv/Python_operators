{
 "cells": [
  {
   "cell_type": "markdown",
   "id": "63363e76",
   "metadata": {},
   "source": [
    "# assignment opreator\n"
   ]
  },
  {
   "cell_type": "code",
   "execution_count": 2,
   "id": "35f3b974",
   "metadata": {},
   "outputs": [
    {
     "name": "stdout",
     "output_type": "stream",
     "text": [
      "46\n",
      "5\n",
      "26\n",
      "2.0\n",
      "27\n",
      "2\n",
      "56\n",
      "2\n",
      "14\n"
     ]
    }
   ],
   "source": [
    "\"\"\"Assignment operator\n",
    "1. =\n",
    "2. +=\n",
    "3  -=\n",
    "4. *=\n",
    "5. /=\n",
    "6. %=\n",
    "7. **=\n",
    "8. //=\n",
    "9. &=\n",
    "10.|= \"\"\"\n",
    "\n",
    "a = 23         #addition\n",
    "a += 23\n",
    "print(a)\n",
    "\n",
    "b = 10        #substraction\n",
    "b -= 5\n",
    "print(b)\n",
    "\n",
    "c = 13       #multiplication\n",
    "c *= 2\n",
    "print(c)\n",
    "\n",
    "d = 14      #divison\n",
    "d /= 7\n",
    "print(d)\n",
    "\n",
    "e = 3     #exponentiation\n",
    "e **= 3\n",
    "print(e)\n",
    "\n",
    "f = 14    #floor divison\n",
    "f = 2\n",
    "print(f)\n",
    "\n",
    "g = 45    #modulus\n",
    "g =56\n",
    "print(g)\n",
    "\n",
    "h = 14   #and bitwise\n",
    "h &= 2\n",
    "print(h)\n",
    "\n",
    "h = 14  # or bitwise\n",
    "h |= 2\n",
    "print(h)"
   ]
  },
  {
   "cell_type": "code",
   "execution_count": null,
   "id": "20c74ecc",
   "metadata": {},
   "outputs": [],
   "source": []
  }
 ],
 "metadata": {
  "kernelspec": {
   "display_name": "Python 3 (ipykernel)",
   "language": "python",
   "name": "python3"
  },
  "language_info": {
   "codemirror_mode": {
    "name": "ipython",
    "version": 3
   },
   "file_extension": ".py",
   "mimetype": "text/x-python",
   "name": "python",
   "nbconvert_exporter": "python",
   "pygments_lexer": "ipython3",
   "version": "3.10.9"
  }
 },
 "nbformat": 4,
 "nbformat_minor": 5
}
