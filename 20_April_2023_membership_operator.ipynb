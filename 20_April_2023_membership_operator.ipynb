{
 "cells": [
  {
   "cell_type": "markdown",
   "id": "2eb64966",
   "metadata": {},
   "source": [
    "# membership operator"
   ]
  },
  {
   "cell_type": "code",
   "execution_count": 3,
   "id": "61e5e00e",
   "metadata": {},
   "outputs": [
    {
     "name": "stdout",
     "output_type": "stream",
     "text": [
      "True\n"
     ]
    }
   ],
   "source": [
    "\"\"\"\n",
    "# member ship  operator(result in boolean formet)\n",
    "1. in (\"when value both are same\")\n",
    "2.not in (\"when value is does not match in data \")\n",
    "\"\"\"\n",
    "A = [\"Apple\",\"Green\"]\n",
    "B = [\"Apple\",\"Green\"]\n",
    "print(\"Apple\" in B) # when correct value is store \n"
   ]
  },
  {
   "cell_type": "code",
   "execution_count": 5,
   "id": "4c972b90",
   "metadata": {},
   "outputs": [
    {
     "name": "stdout",
     "output_type": "stream",
     "text": [
      "True\n"
     ]
    }
   ],
   "source": [
    "print(\"guava\"not in B) # when in correct value is store"
   ]
  }
 ],
 "metadata": {
  "kernelspec": {
   "display_name": "Python 3 (ipykernel)",
   "language": "python",
   "name": "python3"
  },
  "language_info": {
   "codemirror_mode": {
    "name": "ipython",
    "version": 3
   },
   "file_extension": ".py",
   "mimetype": "text/x-python",
   "name": "python",
   "nbconvert_exporter": "python",
   "pygments_lexer": "ipython3",
   "version": "3.10.9"
  }
 },
 "nbformat": 4,
 "nbformat_minor": 5
}
