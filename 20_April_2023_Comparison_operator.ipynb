{
 "cells": [
  {
   "cell_type": "markdown",
   "id": "3e95a5ae",
   "metadata": {},
   "source": [
    "#### comparison opertaor"
   ]
  },
  {
   "cell_type": "code",
   "execution_count": 7,
   "id": "e5b3577b",
   "metadata": {},
   "outputs": [
    {
     "name": "stdout",
     "output_type": "stream",
     "text": [
      "25\n",
      "26\n",
      "False\n",
      "True\n",
      "True\n",
      "False\n",
      "True\n",
      "False\n"
     ]
    }
   ],
   "source": [
    "\"\"\"\n",
    "1. == Equal\n",
    "2. != Not equal\n",
    "3. < less than\n",
    "4. > Grater than\n",
    "5. <= less than or equal to\n",
    "6. >= Greater than or equal to\n",
    "\"\"\"\n",
    "a = 25\n",
    "b = 26\n",
    "print(a)\n",
    "print(b)\n",
    "print(a == b)\n",
    "print(a != b)\n",
    "print(a < b)\n",
    "print(a > b)\n",
    "print(a <= b)\n",
    "print(a >= b)"
   ]
  }
 ],
 "metadata": {
  "kernelspec": {
   "display_name": "Python 3 (ipykernel)",
   "language": "python",
   "name": "python3"
  },
  "language_info": {
   "codemirror_mode": {
    "name": "ipython",
    "version": 3
   },
   "file_extension": ".py",
   "mimetype": "text/x-python",
   "name": "python",
   "nbconvert_exporter": "python",
   "pygments_lexer": "ipython3",
   "version": "3.10.9"
  }
 },
 "nbformat": 4,
 "nbformat_minor": 5
}
