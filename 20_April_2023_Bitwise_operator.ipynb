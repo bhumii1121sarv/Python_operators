{
 "cells": [
  {
   "cell_type": "markdown",
   "id": "f5ff2f0a",
   "metadata": {},
   "source": [
    "# Bitwise operator"
   ]
  },
  {
   "cell_type": "code",
   "execution_count": 3,
   "id": "55e1d11e",
   "metadata": {},
   "outputs": [
    {
     "name": "stdout",
     "output_type": "stream",
     "text": [
      "2\n",
      "15\n"
     ]
    }
   ],
   "source": [
    "\"\"\"bitwise operator:- gives an output through bitwise tabel\n",
    "   show result in integer method\n",
    "    1 AND(&) :Sets each bit to 1 if both bits are 1\t\n",
    "    2 OR(|): Sets each bit to 1 if one of two bits is 1\n",
    "     \"\"\"\n",
    "\"\"\"Bitwise operator\"\"\"\n",
    "\"\"\"   no 8 4 2 1\n",
    "      0  0 0 0 0\n",
    "      1  0 0 0 1\n",
    "      2  0 0 1 0\n",
    "      3  0 0 1 1 \n",
    "      4  0 1 0 0 \n",
    "      5  0 1 0 1\n",
    "      6  0 1 1 0 \n",
    "      7  0 1 1 1\n",
    "      8  1 0 0 0\n",
    "      9  1 0 0 1\n",
    "      10 1 0 1 0\n",
    "      11 1 0 1 1\n",
    "      12 1 1 0 0\n",
    "      13 1 1 0 1\n",
    "      14 1 1 1 0\n",
    "      15 1 1 1 1\n",
    "\"\"\"\n",
    "\n",
    "A = 15\n",
    "B = 2\n",
    "print(A & B)\n",
    "\n",
    "A = 14\n",
    "B = 3\n",
    "print(A | B)\n"
   ]
  }
 ],
 "metadata": {
  "kernelspec": {
   "display_name": "Python 3 (ipykernel)",
   "language": "python",
   "name": "python3"
  },
  "language_info": {
   "codemirror_mode": {
    "name": "ipython",
    "version": 3
   },
   "file_extension": ".py",
   "mimetype": "text/x-python",
   "name": "python",
   "nbconvert_exporter": "python",
   "pygments_lexer": "ipython3",
   "version": "3.10.9"
  }
 },
 "nbformat": 4,
 "nbformat_minor": 5
}
