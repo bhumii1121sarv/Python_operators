{
 "cells": [
  {
   "cell_type": "markdown",
   "id": "47a06304",
   "metadata": {},
   "source": [
    "# identity operator"
   ]
  },
  {
   "cell_type": "code",
   "execution_count": 13,
   "id": "cd2eed02",
   "metadata": {},
   "outputs": [
    {
     "name": "stdout",
     "output_type": "stream",
     "text": [
      "True\n",
      "True\n",
      "False\n",
      "False\n"
     ]
    }
   ],
   "source": [
    "\"\"\" Logical operator(\"result in boolean formet\")\n",
    " 1. is not(\"if value is not same then return true\")\n",
    " 2. is (\"if value is same than return true )\"\"\"\n",
    " \n",
    "a = [\"1,2,3\"]\n",
    "b = [\"1,2,3\"]\n",
    "c = a     # a is a variable       \n",
    "print(c is a) # when'a' variable is assign\n",
    "c = b\n",
    "print(c is b) # when'b' variable is assign\n",
    "c = b\n",
    "print(c is not b) #\n",
    "c = a\n",
    "print(a is not c)\n",
    "\n",
    "    "
   ]
  },
  {
   "cell_type": "code",
   "execution_count": null,
   "id": "9aee90f9",
   "metadata": {},
   "outputs": [],
   "source": []
  }
 ],
 "metadata": {
  "kernelspec": {
   "display_name": "Python 3 (ipykernel)",
   "language": "python",
   "name": "python3"
  },
  "language_info": {
   "codemirror_mode": {
    "name": "ipython",
    "version": 3
   },
   "file_extension": ".py",
   "mimetype": "text/x-python",
   "name": "python",
   "nbconvert_exporter": "python",
   "pygments_lexer": "ipython3",
   "version": "3.10.9"
  }
 },
 "nbformat": 4,
 "nbformat_minor": 5
}
