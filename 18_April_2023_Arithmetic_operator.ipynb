{
 "cells": [
  {
   "cell_type": "markdown",
   "id": "adeef0ba",
   "metadata": {},
   "source": [
    "# ARITHMETIC OPRETAR\n"
   ]
  },
  {
   "cell_type": "code",
   "execution_count": 2,
   "id": "a17581b8",
   "metadata": {},
   "outputs": [
    {
     "name": "stdout",
     "output_type": "stream",
     "text": [
      "65\n",
      "5\n",
      "48\n",
      "12.0\n",
      "0\n",
      "9\n",
      "5\n"
     ]
    }
   ],
   "source": [
    "\"\"\" 1. Addition (+)\n",
    " 2. Subtraction (-)\n",
    " 3. Multiplication(*)\n",
    " 4. Divison(/)\n",
    " 5. modulo(%)\n",
    " 6. Exponentiation(**)\n",
    " 7. Floor Divison(//)\"\"\"\n",
    "\n",
    "# addition\n",
    "a = 25\n",
    "b = 40\n",
    "c = a + b\n",
    "print(c)\n",
    "\n",
    "# Subtraction\n",
    "a = 20\n",
    "b = 15\n",
    "c = a - b\n",
    "print(c)\n",
    "\n",
    "#Multiplication\n",
    "a = 12\n",
    "b = 4\n",
    "c = a*b\n",
    "print(c)\n",
    "\n",
    "#division\n",
    "a = 108\n",
    "b = 9\n",
    "c = 108/9\n",
    "print(c)\n",
    "\n",
    "#modulo \n",
    "a = 12\n",
    "b = 6\n",
    "c = a % b\n",
    "print(c)\n",
    "\n",
    "# exponetiation\n",
    "a = 3\n",
    "b =2\n",
    "c = a**b\n",
    "print(c)\n",
    "\n",
    "# floor divison\n",
    "a =  34\n",
    "b =  6\n",
    "c = a //b\n",
    "print(c)\n"
   ]
  },
  {
   "cell_type": "code",
   "execution_count": null,
   "id": "6c0121a3",
   "metadata": {},
   "outputs": [],
   "source": []
  }
 ],
 "metadata": {
  "kernelspec": {
   "display_name": "Python 3 (ipykernel)",
   "language": "python",
   "name": "python3"
  },
  "language_info": {
   "codemirror_mode": {
    "name": "ipython",
    "version": 3
   },
   "file_extension": ".py",
   "mimetype": "text/x-python",
   "name": "python",
   "nbconvert_exporter": "python",
   "pygments_lexer": "ipython3",
   "version": "3.10.9"
  }
 },
 "nbformat": 4,
 "nbformat_minor": 5
}
