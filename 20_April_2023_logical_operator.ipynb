{
 "cells": [
  {
   "cell_type": "markdown",
   "id": "6413d0bf",
   "metadata": {},
   "source": [
    "# Logical opeartor"
   ]
  },
  {
   "cell_type": "code",
   "execution_count": 6,
   "id": "5efeaf7b",
   "metadata": {},
   "outputs": [
    {
     "name": "stdout",
     "output_type": "stream",
     "text": [
      "True\n",
      "True\n",
      "True\n"
     ]
    }
   ],
   "source": [
    "\"\"\"Logical operators are used to combine conditional statements\n",
    "   result show in boolean type\n",
    "   1 and\n",
    "   2 or\n",
    "   3 not\"\"\"\n",
    "W = 34               # and operat\n",
    "print(W < 100 and W > 23)\n",
    "\n",
    "\n",
    "v = 333             # or operator     \n",
    "print(v > 100 or v < 301)\n",
    "\n",
    "b = 32\n",
    "print(not(b > 100 and b < 300))"
   ]
  }
 ],
 "metadata": {
  "kernelspec": {
   "display_name": "Python 3 (ipykernel)",
   "language": "python",
   "name": "python3"
  },
  "language_info": {
   "codemirror_mode": {
    "name": "ipython",
    "version": 3
   },
   "file_extension": ".py",
   "mimetype": "text/x-python",
   "name": "python",
   "nbconvert_exporter": "python",
   "pygments_lexer": "ipython3",
   "version": "3.10.9"
  }
 },
 "nbformat": 4,
 "nbformat_minor": 5
}
